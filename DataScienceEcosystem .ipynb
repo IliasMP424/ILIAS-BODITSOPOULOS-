{
 "cells": [
  {
   "cell_type": "markdown",
   "id": "a9fd98c0-4f7a-42e1-acad-bd85ffb37093",
   "metadata": {},
   "source": [
    "# Data Science Tools and Ecosystem"
   ]
  },
  {
   "cell_type": "markdown",
   "id": "78736ef3-2de0-4d65-86cc-262688cca11e",
   "metadata": {},
   "source": [
    "In this notebook, Data Science Tools and Ecosystem are summarized."
   ]
  },
  {
   "cell_type": "markdown",
   "id": "5719b307-ece8-468c-86c7-52d1cf767a41",
   "metadata": {},
   "source": [
    "**Objectives:**\n",
    "+ List popular languages for Data Science.\n",
    "+ List popular libraries for Data Science.\n",
    "+ A table of Data Science tools."
   ]
  },
  {
   "cell_type": "markdown",
   "id": "767c53d2-4367-46c1-a97f-ebb2e4b60760",
   "metadata": {},
   "source": [
    "Some of the popular languages that Data Scientists use are:\n",
    "1. Python\n",
    "2. SQL\n",
    "3. R\n",
    "4. C++\n",
    "5. Java"
   ]
  },
  {
   "cell_type": "markdown",
   "id": "40141add-5be2-47f2-ae81-0f537eb0535d",
   "metadata": {},
   "source": [
    "Some of the commonly used libraries used by Data Scientists include:\n",
    "1. NumPy\n",
    "2. Pandas\n",
    "3. Matplotlib\n",
    "4. Searborn\n",
    "5. TensorFlow"
   ]
  },
  {
   "cell_type": "markdown",
   "id": "e742dfe2-8b76-4193-8afa-5098a242b649",
   "metadata": {},
   "source": [
    "| Data Science Tools |\n",
    "| ----------- | \n",
    "| Hadoop |\n",
    "| Spark |\n",
    "| KNIME |"
   ]
  },
  {
   "cell_type": "markdown",
   "id": "69165819-30d6-433f-b7a3-ac63e57394de",
   "metadata": {},
   "source": [
    "### Below are a few examples of evaluating arithmetic expressions in Python"
   ]
  },
  {
   "cell_type": "code",
   "execution_count": 20,
   "id": "8d5f65e4-9404-4fbf-82c8-326e1af1c72b",
   "metadata": {},
   "outputs": [
    {
     "data": {
      "text/plain": [
       "17"
      ]
     },
     "execution_count": 20,
     "metadata": {},
     "output_type": "execute_result"
    }
   ],
   "source": [
    "# This a simple arithmetic expression to multiply then add integers\n",
    "\n",
    "(3*4)+5"
   ]
  },
  {
   "cell_type": "code",
   "execution_count": 21,
   "id": "3d9af040-3a90-4248-a959-cdc8a9669c8d",
   "metadata": {
    "scrolled": true
   },
   "outputs": [
    {
     "data": {
      "text/plain": [
       "3"
      ]
     },
     "execution_count": 21,
     "metadata": {},
     "output_type": "execute_result"
    }
   ],
   "source": [
    "# This will convert 200 minutes to hours by diving by 60\n",
    "\n",
    "200//60"
   ]
  },
  {
   "cell_type": "markdown",
   "id": "cbc669f6-cd63-4707-bd4d-0d177f6f2a30",
   "metadata": {},
   "source": [
    "## Author\n",
    "Ilias Boditsopoulos"
   ]
  },
  {
   "cell_type": "code",
   "execution_count": null,
   "id": "af8f9e23-cb9d-458e-bb22-eafba4d152e1",
   "metadata": {},
   "outputs": [],
   "source": []
  }
 ],
 "metadata": {
  "kernelspec": {
   "display_name": "Python 3 (ipykernel)",
   "language": "python",
   "name": "python3"
  },
  "language_info": {
   "codemirror_mode": {
    "name": "ipython",
    "version": 3
   },
   "file_extension": ".py",
   "mimetype": "text/x-python",
   "name": "python",
   "nbconvert_exporter": "python",
   "pygments_lexer": "ipython3",
   "version": "3.11.9"
  }
 },
 "nbformat": 4,
 "nbformat_minor": 5
}
